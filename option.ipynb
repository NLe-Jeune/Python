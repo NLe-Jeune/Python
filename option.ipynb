{
 "cells": [
  {
   "cell_type": "code",
   "execution_count": 12,
   "metadata": {},
   "outputs": [],
   "source": [
    "import numpy as np\n",
    "from scipy.stats import norm"
   ]
  },
  {
   "cell_type": "code",
   "execution_count": 13,
   "metadata": {},
   "outputs": [],
   "source": [
    "def BlackScholes(option_type : str ,S : int, K : int, r : int, T : int, sigma : int):\n",
    "    d1 = (np.log(S/K) + (r+(sigma**2) /2)*T) / (sigma*np.sqrt(T))\n",
    "    d2 = d1 - sigma*np.sqrt(T)\n",
    "\n",
    "    if option_type.lower() == 'call':\n",
    "        call = S*norm.cdf(d1) - K*np.exp(-r*T)*norm.cdf(d2)\n",
    "        return call\n",
    "    \n",
    "    elif option_type.lower() == 'put':\n",
    "        put = -S*norm.cdf(-d1) + K*np.exp(-r*T)*norm.cdf(-d2)\n",
    "        return put\n",
    "\n",
    "    else:\n",
    "        return 'error'"
   ]
  },
  {
   "cell_type": "code",
   "execution_count": 14,
   "metadata": {},
   "outputs": [],
   "source": [
    "def CallPuttParity(option_type : str ,S : int, K : int, r : int, T : int, sigma : int):\n",
    "    if option_type.lower() == 'call':\n",
    "        call = BlackScholes(option_type , S, K, r, T, sigma)\n",
    "        put = call - S + K*np.exp(-r*T)\n",
    "        return put \n",
    "\n",
    "    elif option_type.lower() == 'put':\n",
    "        put = BlackScholes(option_type , S, K, r, T, sigma)\n",
    "        call = put + S - K*np.exp(-r*T)\n",
    "        return call \n",
    "\n",
    "    else:\n",
    "        return 'error' "
   ]
  },
  {
   "cell_type": "code",
   "execution_count": 15,
   "metadata": {},
   "outputs": [
    {
     "name": "stdout",
     "output_type": "stream",
     "text": [
      "PUT knowing CALL: 5.57\n",
      "PUT with Black Scholes: 5.57\n"
     ]
    }
   ],
   "source": [
    "S = 100    \n",
    "K = 100      \n",
    "r = 0.05     \n",
    "T = 1        \n",
    "sigma = 0.2  \n",
    "\n",
    "put = CallPuttParity('call', S, K, r, T, sigma)\n",
    "print(f\"PUT knowing CALL: {put:.2f}\")\n",
    "\n",
    "print(f\"PUT with Black Scholes: {BlackScholes('put', S, K, r, T, sigma):.2f}\")"
   ]
  }
 ],
 "metadata": {
  "kernelspec": {
   "display_name": ".envPython",
   "language": "python",
   "name": "python3"
  },
  "language_info": {
   "codemirror_mode": {
    "name": "ipython",
    "version": 3
   },
   "file_extension": ".py",
   "mimetype": "text/x-python",
   "name": "python",
   "nbconvert_exporter": "python",
   "pygments_lexer": "ipython3",
   "version": "3.9.6"
  }
 },
 "nbformat": 4,
 "nbformat_minor": 2
}
